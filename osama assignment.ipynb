{
 "cells": [
  {
   "cell_type": "code",
   "execution_count": 16,
   "id": "06af5e6e",
   "metadata": {},
   "outputs": [
    {
     "name": "stdout",
     "output_type": "stream",
     "text": [
      "Twinkle, twinkle, little star,\n",
      "\t How I wonder what you are! \n",
      "\t\t Up Above the world so high,\n",
      "\t\t Like a diamond in the sky.\n",
      " Twinkle, Twinkle, little star,\n",
      "\t How I wonder what do you are!\n"
     ]
    }
   ],
   "source": [
    "print(\"Twinkle, twinkle, little star,\\n\\t How I wonder what you are! \\n\\t\\t Up Above the world so high,\\n\\t\\t Like a diamond in the sky.\\n Twinkle, Twinkle, little star,\\n\\t How I wonder what do you are!\")\n"
   ]
  },
  {
   "cell_type": "code",
   "execution_count": 17,
   "id": "69454f9c",
   "metadata": {},
   "outputs": [
    {
     "name": "stdout",
     "output_type": "stream",
     "text": [
      "Python Version\n",
      "3.8.8 (default, Apr 13 2021, 15:08:03) [MSC v.1916 64 bit (AMD64)]\n"
     ]
    }
   ],
   "source": [
    "import sys\n",
    "print(\"Python Version\")\n",
    "print(sys.version)"
   ]
  },
  {
   "cell_type": "code",
   "execution_count": 18,
   "id": "e17cb114",
   "metadata": {},
   "outputs": [
    {
     "name": "stdout",
     "output_type": "stream",
     "text": [
      "Current date and time : \n",
      "01:01:2022 19:25:44\n"
     ]
    }
   ],
   "source": [
    "import datetime\n",
    "now = datetime.datetime.now()\n",
    "print(\"Current date and time : \")\n",
    "print(now.strftime(\"%d:%m:%Y %H:%M:%S\"))\n",
    "\n"
   ]
  },
  {
   "cell_type": "code",
   "execution_count": 19,
   "id": "00f0c2e3",
   "metadata": {},
   "outputs": [
    {
     "name": "stdout",
     "output_type": "stream",
     "text": [
      "Current date and time : \n",
      "01:01:2022 19:25:49\n"
     ]
    }
   ],
   "source": [
    "import datetime\n",
    "now = datetime.datetime.now()\n",
    "print(\"Current date and time : \")\n",
    "print(now.strftime(\"%d:%m:%Y %H:%M:%S\"))"
   ]
  },
  {
   "cell_type": "code",
   "execution_count": 20,
   "id": "14dc7894",
   "metadata": {},
   "outputs": [
    {
     "name": "stdout",
     "output_type": "stream",
     "text": [
      "Enter First Namepeter\n",
      "Enter Last Namejohn\n",
      "Your Name is john peter\n"
     ]
    }
   ],
   "source": [
    "firstname=input(\"Enter First Name\")\n",
    "Lastname=input(\"Enter Last Name\")\n",
    "print(\"Your Name is \"+Lastname+\" \"+firstname)"
   ]
  },
  {
   "cell_type": "code",
   "execution_count": 21,
   "id": "83c1e36e",
   "metadata": {},
   "outputs": [
    {
     "name": "stdout",
     "output_type": "stream",
     "text": [
      "Enter Any Number 2\n",
      "Enter Any Number 2\n",
      "The Addition is  4\n"
     ]
    }
   ],
   "source": [
    "a=int(input(\"Enter Any Number \"))\n",
    "b=int(input(\"Enter Any Number \"))\n",
    "sum=a+b\n",
    "print(\"The Addition is \",sum)"
   ]
  },
  {
   "cell_type": "code",
   "execution_count": null,
   "id": "dd44db27",
   "metadata": {},
   "outputs": [],
   "source": []
  }
 ],
 "metadata": {
  "kernelspec": {
   "display_name": "Python 3",
   "language": "python",
   "name": "python3"
  },
  "language_info": {
   "codemirror_mode": {
    "name": "ipython",
    "version": 3
   },
   "file_extension": ".py",
   "mimetype": "text/x-python",
   "name": "python",
   "nbconvert_exporter": "python",
   "pygments_lexer": "ipython3",
   "version": "3.8.8"
  }
 },
 "nbformat": 4,
 "nbformat_minor": 5
}
